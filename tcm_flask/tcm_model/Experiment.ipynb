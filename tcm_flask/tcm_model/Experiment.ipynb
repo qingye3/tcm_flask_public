{
 "cells": [
  {
   "cell_type": "code",
   "execution_count": 1,
   "metadata": {},
   "outputs": [],
   "source": [
    "import numpy as np\n",
    "from scipy.stats import entropy\n",
    "from tcm_model import TCMModel, EMR"
   ]
  },
  {
   "cell_type": "code",
   "execution_count": 3,
   "metadata": {},
   "outputs": [],
   "source": [
    "tcm = TCMModel.from_saved('../../resource/tcm_model_4.pickle')\n",
    "emr = tcm.emr"
   ]
  },
  {
   "cell_type": "markdown",
   "metadata": {},
   "source": [
    "# Symptom of Disease"
   ]
  },
  {
   "cell_type": "code",
   "execution_count": 4,
   "metadata": {},
   "outputs": [
    {
     "ename": "AttributeError",
     "evalue": "'NoneType' object has no attribute 'diseases_inv'",
     "output_type": "error",
     "traceback": [
      "\u001b[0;31m---------------------------------------------------------------------------\u001b[0m",
      "\u001b[0;31mAttributeError\u001b[0m                            Traceback (most recent call last)",
      "\u001b[0;32m<ipython-input-4-94053e6dfb54>\u001b[0m in \u001b[0;36m<module>\u001b[0;34m()\u001b[0m\n\u001b[0;32m----> 1\u001b[0;31m \u001b[0mdiseases\u001b[0m \u001b[0;34m=\u001b[0m \u001b[0;34m[\u001b[0m\u001b[0memr\u001b[0m\u001b[0;34m.\u001b[0m\u001b[0mdiseases_inv\u001b[0m\u001b[0;34m[\u001b[0m\u001b[0md\u001b[0m\u001b[0;34m]\u001b[0m \u001b[0;32mfor\u001b[0m \u001b[0md\u001b[0m \u001b[0;32min\u001b[0m \u001b[0;34m[\u001b[0m\u001b[0;34m'慢性胃炎'\u001b[0m\u001b[0;34m,\u001b[0m \u001b[0;34m'便秘'\u001b[0m\u001b[0;34m,\u001b[0m \u001b[0;34m'反流性食管炎'\u001b[0m\u001b[0;34m]\u001b[0m\u001b[0;34m]\u001b[0m\u001b[0;34m\u001b[0m\u001b[0m\n\u001b[0m",
      "\u001b[0;32m<ipython-input-4-94053e6dfb54>\u001b[0m in \u001b[0;36m<listcomp>\u001b[0;34m(.0)\u001b[0m\n\u001b[0;32m----> 1\u001b[0;31m \u001b[0mdiseases\u001b[0m \u001b[0;34m=\u001b[0m \u001b[0;34m[\u001b[0m\u001b[0memr\u001b[0m\u001b[0;34m.\u001b[0m\u001b[0mdiseases_inv\u001b[0m\u001b[0;34m[\u001b[0m\u001b[0md\u001b[0m\u001b[0;34m]\u001b[0m \u001b[0;32mfor\u001b[0m \u001b[0md\u001b[0m \u001b[0;32min\u001b[0m \u001b[0;34m[\u001b[0m\u001b[0;34m'慢性胃炎'\u001b[0m\u001b[0;34m,\u001b[0m \u001b[0;34m'便秘'\u001b[0m\u001b[0;34m,\u001b[0m \u001b[0;34m'反流性食管炎'\u001b[0m\u001b[0;34m]\u001b[0m\u001b[0;34m]\u001b[0m\u001b[0;34m\u001b[0m\u001b[0m\n\u001b[0m",
      "\u001b[0;31mAttributeError\u001b[0m: 'NoneType' object has no attribute 'diseases_inv'"
     ]
    }
   ],
   "source": [
    "diseases = [emr.diseases_inv[d] for d in ['慢性胃炎', '便秘', '反流性食管炎']]"
   ]
  },
  {
   "cell_type": "code",
   "execution_count": 4,
   "metadata": {
    "scrolled": true
   },
   "outputs": [
    {
     "name": "stdout",
     "output_type": "stream",
     "text": [
      "慢性胃炎\n",
      "['脉沉细', '舌暗红', '嗳气', '烧心', '腹部畏寒', '胃胀', '胃痛', '口干', '痞满', '苔黄腻']\n",
      "[ 0.05385798  0.03792856  0.02665097  0.02269895  0.0222245   0.02054258\n",
      "  0.02037744  0.01952575  0.01900416  0.01858352]\n",
      "1.0\n",
      "便秘\n",
      "['脉沉细', '舌暗红', '腹部畏寒', '嗳气', '苔黄腻', '脉弦', '烧心', '苔薄黄', '胃痛', '口干']\n",
      "[ 0.04586144  0.03811384  0.03182698  0.02760657  0.02531396  0.02426414\n",
      "  0.02358936  0.022927    0.02162672  0.01990093]\n",
      "1.0\n",
      "反流性食管炎\n",
      "['脉沉细', '痞满', '舌暗红', '烧心', '苔黄腻', '腹部畏寒', '口干', '胃胀', '舌暗红胖', '嗳气']\n",
      "[ 0.04256286  0.02938781  0.02864866  0.028428    0.025739    0.0205186\n",
      "  0.01982025  0.01972499  0.0191177   0.01843362]\n",
      "1.0\n",
      "Background\n",
      "['脉沉细', '舌暗红', '嗳气', '烧心', '腹部畏寒', '胃胀', '胃痛', '口干', '痞满', '苔黄腻']\n",
      "[ 0.05221476  0.03594961  0.02679629  0.02336958  0.02286985  0.02027757\n",
      "  0.01994444  0.01968026  0.01899888  0.01872076]\n",
      "1.0\n"
     ]
    }
   ],
   "source": [
    "for d in ['慢性胃炎', '便秘', '反流性食管炎', 'Background']:\n",
    "    disease = emr.diseases_inv[d]\n",
    "    top = np.argsort(tcm.P_s_d[:, disease])[::-1][:10]\n",
    "    print(d)\n",
    "    print([emr.symptoms[s] for s in top])\n",
    "    print(tcm.P_s_d[:, disease][top])\n",
    "    print(np.sum(tcm.P_s_d[:, disease]))"
   ]
  },
  {
   "cell_type": "code",
   "execution_count": 6,
   "metadata": {},
   "outputs": [
    {
     "name": "stdout",
     "output_type": "stream",
     "text": [
      "Background\n",
      "(['脉沉细', '舌暗红', '嗳气', '烧心', '腹部畏寒', '胃胀', '胃痛', '口干', '痞满', '苔黄腻'], array([ 0.05221476,  0.03594961,  0.02679629,  0.02336958,  0.02286985,\n",
      "        0.02027757,  0.01994444,  0.01968026,  0.01899888,  0.01872076]))\n",
      "慢性胃炎\n",
      "(['脉沉细', '舌暗红', '嗳气', '烧心', '腹部畏寒', '胃胀', '胃痛', '口干', '痞满', '苔黄腻'], array([ 0.05385798,  0.03792856,  0.02665097,  0.02269895,  0.0222245 ,\n",
      "        0.02054258,  0.02037744,  0.01952575,  0.01900416,  0.01858352]))\n",
      "功能性消化不良\n",
      "(['脉沉细', '舌暗红', '嗳气', '腹部畏寒', '乏力', '痞满', '苔薄白', '口干', '腹泻', '苔薄黄'], array([ 0.0567687 ,  0.03503515,  0.02803849,  0.02403232,  0.02041983,\n",
      "        0.02006399,  0.01894776,  0.01755571,  0.01517187,  0.01489063]))\n",
      "冠心病\n",
      "(['舌暗红', '脉沉细', '苔黄腻', '脉弦', '腹部畏寒', '烧心', '嗳气', '有裂纹', '苔白腻', '乏力'], array([ 0.04862312,  0.02895371,  0.02588959,  0.02463873,  0.02187459,\n",
      "        0.02050838,  0.02004878,  0.01770767,  0.01685079,  0.01631959]))\n",
      "脂肪肝\n",
      "(['脉沉细', '嗳气', '胃胀', '苔黄腻', '舌暗红', '口干', '痞满', '乏力', '舌淡暗胖', '苔薄白'], array([ 0.04761045,  0.02738194,  0.02527032,  0.02420468,  0.02260081,\n",
      "        0.02195989,  0.02192371,  0.02082698,  0.01945429,  0.01670604]))\n"
     ]
    }
   ],
   "source": [
    "entropies = []\n",
    "for d in range(len(emr.diseases)):\n",
    "    entropies.append(entropy(tcm.P_s_d[:, d]))\n",
    "top_diseases = np.argsort(entropies)[::-1][:5]\n",
    "for d in top_diseases:\n",
    "    print(emr.diseases[d])\n",
    "    print(tcm.symptoms_of_disease(emr.diseases[d]))"
   ]
  },
  {
   "cell_type": "code",
   "execution_count": null,
   "metadata": {},
   "outputs": [],
   "source": []
  }
 ],
 "metadata": {
  "kernelspec": {
   "display_name": "Python 3",
   "language": "python",
   "name": "python3"
  },
  "language_info": {
   "codemirror_mode": {
    "name": "ipython",
    "version": 3
   },
   "file_extension": ".py",
   "mimetype": "text/x-python",
   "name": "python",
   "nbconvert_exporter": "python",
   "pygments_lexer": "ipython3",
   "version": "3.6.4"
  }
 },
 "nbformat": 4,
 "nbformat_minor": 2
}
